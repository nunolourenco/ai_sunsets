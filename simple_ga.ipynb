{
 "cells": [
  {
   "cell_type": "markdown",
   "metadata": {},
   "source": [
    "<div style=\"width: 100%; overflow: hidden;\">\n",
    "    <a href=\"https://www.cisuc.uc.pt/groups/show/ecos\">\n",
    "    <div style=\"float: left;\"><img src=\"https://eden.dei.uc.pt/~naml/images_ecos/ecos.png\" width=\"250px\" /></div>\n",
    "    </a>\n",
    "    <a href=\"http://www.uc.pt/fctuc/dei/\">\n",
    "    <div style=\"float: right;\"><img src=\"https://eden.dei.uc.pt/~naml/images_ecos/dei25.png\" width=\"700px\" /></div>\n",
    "    </a>\n",
    "</div>"
   ]
  },
  {
   "cell_type": "markdown",
   "metadata": {},
   "source": [
    "# Imports\n"
   ]
  },
  {
   "cell_type": "code",
   "execution_count": null,
   "metadata": {
    "ExecuteTime": {
     "end_time": "2020-09-29T10:58:20.232276Z",
     "start_time": "2020-09-29T10:58:19.673918Z"
    }
   },
   "outputs": [],
   "source": [
    "import sys\n",
    "import random\n",
    "import copy\n",
    "import json\n",
    "import numpy as np"
   ]
  },
  {
   "cell_type": "markdown",
   "metadata": {},
   "source": [
    "# Parameters"
   ]
  },
  {
   "cell_type": "code",
   "execution_count": null,
   "metadata": {
    "ExecuteTime": {
     "end_time": "2020-09-29T10:58:59.122540Z",
     "start_time": "2020-09-29T10:58:59.118890Z"
    }
   },
   "outputs": [],
   "source": [
    "# CONFIG\n",
    "POPULATION_SIZE = 100\n",
    "NUMBER_OF_ITERATIONS = 500\n",
    "TOURNAMENT = 4\n",
    "PROB_CROSSOVER = 0.9\n",
    "PROB_MUTATION = 0.05\n",
    "SEED = 42\n",
    "GENOTYPE_SIZE = len(TARGET_STRING)\n",
    "# The options available for the genotype\n",
    "OPTIONS = list(range(65, 91)) + [32]\n",
    "# TARGET STRING.\n",
    "TARGET_STRING = \"METHINKS IT IS LIKE A WEASEL\""
   ]
  },
  {
   "cell_type": "markdown",
   "metadata": {},
   "source": [
    "# Fitness evaluation\n",
    "\n",
    "This function should return the number of different positions between the phenotype of an individual and the TARGET_STRING"
   ]
  },
  {
   "cell_type": "code",
   "execution_count": null,
   "metadata": {
    "ExecuteTime": {
     "end_time": "2020-09-29T11:04:22.744444Z",
     "start_time": "2020-09-29T11:04:22.740561Z"
    }
   },
   "outputs": [],
   "source": [
    "def fitness(individual):\n",
    "    \"\"\" Computes the number of positions between the phenotype and the target string\"\"\"\n",
    "    different_pos = 0\n",
    "    ### Your code here\n",
    "    return different_pos\n",
    "\n",
    "def evaluate(ind):\n",
    "    pheno = mapping(ind['genotype'])\n",
    "    ind['fitness'] = fitness(pheno)"
   ]
  },
  {
   "cell_type": "markdown",
   "metadata": {},
   "source": [
    "# Generate a Random Invidiual\n",
    "\n",
    "You should generate a random individual the elements that are available in the OPTIONS variable"
   ]
  },
  {
   "cell_type": "code",
   "execution_count": null,
   "metadata": {
    "ExecuteTime": {
     "end_time": "2020-09-29T11:02:37.266944Z",
     "start_time": "2020-09-29T11:02:37.264270Z"
    }
   },
   "outputs": [],
   "source": [
    "def generate_random_individual():\n",
    "    genotype = []\n",
    "    ### Your code here\n",
    "    return {'genotype': genotype, 'fitness': None }"
   ]
  },
  {
   "cell_type": "markdown",
   "metadata": {},
   "source": [
    "# Generate Initial Population"
   ]
  },
  {
   "cell_type": "code",
   "execution_count": null,
   "metadata": {
    "ExecuteTime": {
     "end_time": "2020-09-29T11:03:20.059439Z",
     "start_time": "2020-09-29T11:03:20.057225Z"
    }
   },
   "outputs": [],
   "source": [
    "def generate_initial_population():\n",
    "    for i in range(POPULATION_SIZE):\n",
    "        yield generate_random_individual()"
   ]
  },
  {
   "cell_type": "markdown",
   "metadata": {},
   "source": [
    "# Mapping\n",
    "\n",
    "Convert the genotype into the phenotype, i.e. a string"
   ]
  },
  {
   "cell_type": "code",
   "execution_count": null,
   "metadata": {
    "ExecuteTime": {
     "end_time": "2020-09-29T11:03:59.755005Z",
     "start_time": "2020-09-29T11:03:59.752468Z"
    }
   },
   "outputs": [],
   "source": [
    "def mapping(genotype):\n",
    "    sentence = \"\"\n",
    "    for value in genotype:\n",
    "        sentence += chr(value)\n",
    "    return sentence"
   ]
  },
  {
   "cell_type": "markdown",
   "metadata": {},
   "source": [
    "# Parent Selection\n",
    "\n",
    "Selection of an individual using Tournament Selection"
   ]
  },
  {
   "cell_type": "code",
   "execution_count": null,
   "metadata": {
    "ExecuteTime": {
     "end_time": "2020-09-29T12:07:53.625605Z",
     "start_time": "2020-09-29T12:07:53.622808Z"
    }
   },
   "outputs": [],
   "source": [
    "def choose_indiv(population):\n",
    "    pool = random.sample(population, TOURNAMENT)\n",
    "    pool.sort(key=lambda i: i['fitness'])\n",
    "    return copy.deepcopy(pool[0])"
   ]
  },
  {
   "cell_type": "markdown",
   "metadata": {},
   "source": [
    "# Recombination\n",
    "\n",
    "You should implement the combination operator with a single cut point"
   ]
  },
  {
   "cell_type": "code",
   "execution_count": null,
   "metadata": {
    "ExecuteTime": {
     "end_time": "2020-09-29T12:08:15.731329Z",
     "start_time": "2020-09-29T12:08:15.727521Z"
    }
   },
   "outputs": [],
   "source": [
    "def crossover(p1, p2):\n",
    "    genotype = []\n",
    "    \n",
    "    #Your code here\n",
    "    \n",
    "    return {'genotype': genotype, 'fitness': None} "
   ]
  },
  {
   "cell_type": "markdown",
   "metadata": {},
   "source": [
    "# Mutation"
   ]
  },
  {
   "cell_type": "code",
   "execution_count": null,
   "metadata": {
    "ExecuteTime": {
     "end_time": "2020-09-29T12:08:38.347075Z",
     "start_time": "2020-09-29T12:08:38.343694Z"
    }
   },
   "outputs": [],
   "source": [
    "def mutate(p):\n",
    "    p = copy.deepcopy(p)\n",
    "    p['fitness'] = None\n",
    "    ### Your code here\n",
    "    \n",
    "    return p"
   ]
  },
  {
   "cell_type": "markdown",
   "metadata": {},
   "source": [
    "# Evolutionary Cycle"
   ]
  },
  {
   "cell_type": "code",
   "execution_count": 1,
   "metadata": {
    "ExecuteTime": {
     "end_time": "2020-09-29T12:24:40.718032Z",
     "start_time": "2020-09-29T12:24:40.707460Z"
    }
   },
   "outputs": [],
   "source": [
    "def main():\n",
    "    bests = []\n",
    "    # Create a initial population randomly\n",
    "    population = list(generate_initial_population())\n",
    "    it = 0\n",
    "    #Evaluate how good the individuals are (problem dependent)\n",
    "    for it in range(it, NUMBER_OF_ITERATIONS):\n",
    "        for i in population:\n",
    "            if i['fitness'] == None:\n",
    "                evaluate(i)\n",
    "        population.sort(key = lambda x: x['fitness'])\n",
    "        best = (mapping(population[0]['genotype']), population[0]['fitness'])\n",
    "        bests.append(best)\n",
    "        # print(\"Best at\", it, best[1])\n",
    "        print(\"Best at\", it, best[0])\n",
    "        new_population = []\n",
    "        while len(new_population) < POPULATION_SIZE:\n",
    "            if random.random() < PROB_CROSSOVER:\n",
    "                #Parent Selection\n",
    "                p1 = choose_indiv(population)\n",
    "                p2 = choose_indiv(population)\n",
    "                #Recombination\n",
    "                ni = crossover(p1, p2)\n",
    "            else:\n",
    "                ni = choose_indiv(population)\n",
    "            #Mutation \n",
    "            if random.random() < PROB_MUTATION:\n",
    "                ni = mutate(ni)\n",
    "            new_population.append(ni)\n",
    "        population = new_population\n",
    "    print(bests[-1])"
   ]
  },
  {
   "cell_type": "code",
   "execution_count": null,
   "metadata": {
    "ExecuteTime": {
     "end_time": "2020-09-29T12:09:34.576679Z",
     "start_time": "2020-09-29T12:09:31.204690Z"
    }
   },
   "outputs": [],
   "source": [
    "random.seed(SEED)\n",
    "main()"
   ]
  },
  {
   "cell_type": "code",
   "execution_count": null,
   "metadata": {},
   "outputs": [],
   "source": []
  }
 ],
 "metadata": {
  "kernelspec": {
   "display_name": "Python 3",
   "language": "python",
   "name": "python3"
  },
  "language_info": {
   "codemirror_mode": {
    "name": "ipython",
    "version": 3
   },
   "file_extension": ".py",
   "mimetype": "text/x-python",
   "name": "python",
   "nbconvert_exporter": "python",
   "pygments_lexer": "ipython3",
   "version": "3.6.8"
  }
 },
 "nbformat": 4,
 "nbformat_minor": 4
}
